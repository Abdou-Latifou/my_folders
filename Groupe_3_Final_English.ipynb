{
 "cells": [
  {
   "cell_type": "markdown",
   "id": "b10a3651",
   "metadata": {},
   "source": [
    "### GROUPE 3\n",
    "\n",
    "* Teyi Kodjo\n",
    "* Abdou-Latifou, \n",
    "* Banda Khondwani,\n",
    "* Rhokaya Diop,\n",
    "* Thiemokho Fall\n",
    "* Mamadou Keita,\n",
    "* Djibril Ndour"
   ]
  },
  {
   "cell_type": "code",
   "execution_count": 2,
   "id": "4a0b9733-9738-4a76-a1b2-2f05925dec90",
   "metadata": {},
   "outputs": [],
   "source": [
    "import os\n",
    "\n",
    "os.chdir ('//home//students-asn17//Bloc1//Python//Cohort2024')"
   ]
  },
  {
   "cell_type": "markdown",
   "id": "e6799308-b1ff-4c26-8491-c8b591b8f92a",
   "metadata": {},
   "source": [
    "### Steps\n",
    "\n",
    "\n",
    "> Initialize the list of students and courses,\n",
    "\n",
    ">> Write the code to create the directory for a student. \"os.makedirs(student_name, exist_ok=True)\"\n",
    "\n",
    ">>> In the Student folder, create a subfolder for courses. \"course_directory = \n",
    "os.path.join(student_name, course), os.makedirs(course_directory, exist_ok=True)\".\n",
    "\n",
    "\n",
    ">>> In each subfolder, create a text file containing \"welcome AIMS\"\n",
    "\n",
    " \n",
    "> For each student in Student List, repeat the code"
   ]
  },
  {
   "cell_type": "code",
   "execution_count": 3,
   "id": "206614f6",
   "metadata": {},
   "outputs": [
    {
     "name": "stdout",
     "output_type": "stream",
     "text": [
      "Directories and files created successfully for all students!\n"
     ]
    }
   ],
   "source": [
    "List_Student = [\"Teyi, Kodjo\",\"Abdou, Latifou\", \"Banda, Khondwani\",\"Rhokaya, Diop\",\"Thiemokho, Fall\", \"Mamadou, Keita\",\"Djibril, Ndour\"]\n",
    "\n",
    "list_courses = [\"MPS\",\"Python\",\"Logic\"]\n",
    "\n",
    "\n",
    "def create_student_directories(student_name):\n",
    "    \n",
    "    os.makedirs(student_name, exist_ok=True)\n",
    "\n",
    "    for course in list_courses:\n",
    "    \n",
    "        course_directory = os.path.join(student_name, course)\n",
    "        os.makedirs(course_directory, exist_ok=True)\n",
    "        \n",
    "#####********************************************************   \n",
    "       \n",
    "        file_path = os.path.join(course_directory, \"info.txt\")\n",
    "        with open(file_path, \"w\") as file:\n",
    "            file.write(\"Welcome at AIMS Senegal\")\n",
    "\n",
    "\n",
    "for student in List_Student:\n",
    "    create_student_directories(student)\n",
    "\n",
    "print(\"Directories and files created successfully for all students!\")"
   ]
  },
  {
   "cell_type": "code",
   "execution_count": null,
   "id": "2e43e18a",
   "metadata": {},
   "outputs": [],
   "source": []
  }
 ],
 "metadata": {
  "kernelspec": {
   "display_name": "Python 3 (ipykernel)",
   "language": "python",
   "name": "python3"
  },
  "language_info": {
   "codemirror_mode": {
    "name": "ipython",
    "version": 3
   },
   "file_extension": ".py",
   "mimetype": "text/x-python",
   "name": "python",
   "nbconvert_exporter": "python",
   "pygments_lexer": "ipython3",
   "version": "3.10.12"
  }
 },
 "nbformat": 4,
 "nbformat_minor": 5
}
